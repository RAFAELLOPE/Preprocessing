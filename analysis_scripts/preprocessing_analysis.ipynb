{
 "cells": [
  {
   "cell_type": "code",
   "execution_count": 3,
   "source": [
    "import pydicom\n",
    "import nibabel as nib\n",
    "import numpy as np\n",
    "import pandas as pd\n",
    "import os"
   ],
   "outputs": [],
   "metadata": {}
  },
  {
   "cell_type": "code",
   "execution_count": 8,
   "source": [
    "base_path = ''\n",
    "\n",
    "img1 = ''\n",
    "img2 = ''\n",
    "\n",
    "ds1 = pydicom.dcmread(os.path.join(base_path, img1))\n",
    "ds2 = pydicom.dcmread(os.path.join(base_path, img2))\n",
    "\n",
    "print(ds1[0x0008, 0x0016])\n",
    "print(ds2[0x0008, 0x0016])"
   ],
   "outputs": [
    {
     "output_type": "stream",
     "name": "stdout",
     "text": [
      "(0008, 0016) SOP Class UID                       UI: MR Image Storage\n",
      "(0008, 0016) SOP Class UID                       UI: MR Image Storage\n"
     ]
    }
   ],
   "metadata": {}
  },
  {
   "cell_type": "code",
   "execution_count": 12,
   "source": [
    "def file_plane(IOP):\n",
    "    IOP_round = [round(x) for x in IOP]\n",
    "    plane = np.cross(IOP_round[0:3], IOP_round[3:6])\n",
    "    plane = [abs(x) for x in plane]\n",
    "    if plane[0] == 1:\n",
    "        return \"Sagittal\"\n",
    "    elif plane[1] == 1:\n",
    "        return \"Coronal\"\n",
    "    elif plane[2] == 1:\n",
    "        return \"Axial\"\n",
    "\n",
    "IOP = ds1.ImageOrientationPatient\n",
    "plane = file_plane(IOP)\n",
    "print(plane)"
   ],
   "outputs": [
    {
     "output_type": "stream",
     "name": "stdout",
     "text": [
      "Axial\n"
     ]
    }
   ],
   "metadata": {}
  },
  {
   "cell_type": "code",
   "execution_count": 13,
   "source": [
    "import dicom2nifti\n",
    "\n",
    "org_directory = ''\n",
    "output_file = ''\n",
    "\n",
    "dicom2nifti.dicom_series_to_nifti(org_directory, output_file, reorient_nifti=True)"
   ],
   "outputs": [
    {
     "output_type": "execute_result",
     "data": {
      "text/plain": [
       "{'NII_FILE': '/mnt/d/Tesis/nifti_data/1.3.46.670589.11.8572.5.0.3880.2015032607093582681.nii.gz',\n",
       " 'NII': <nibabel.nifti1.Nifti1Image at 0x7fb74ac25220>,\n",
       " 'MAX_SLICE_INCREMENT': 6.000000064971109}"
      ]
     },
     "metadata": {},
     "execution_count": 13
    }
   ],
   "metadata": {}
  },
  {
   "cell_type": "code",
   "execution_count": null,
   "source": [],
   "outputs": [],
   "metadata": {}
  }
 ],
 "metadata": {
  "orig_nbformat": 4,
  "language_info": {
   "name": "python"
  }
 },
 "nbformat": 4,
 "nbformat_minor": 2
}